{
 "cells": [
  {
   "cell_type": "code",
   "execution_count": 1,
   "metadata": {},
   "outputs": [
    {
     "name": "stdout",
     "output_type": "stream",
     "text": [
      "23/03/22 15:42:44 WARN Utils: Your hostname, codespaces-800cd2 resolves to a loopback address: 127.0.0.1; using 172.16.5.4 instead (on interface eth0)\n",
      "23/03/22 15:42:44 WARN Utils: Set SPARK_LOCAL_IP if you need to bind to another address\n"
     ]
    },
    {
     "name": "stderr",
     "output_type": "stream",
     "text": [
      "Setting default log level to \"WARN\".\n",
      "To adjust logging level use sc.setLogLevel(newLevel). For SparkR, use setLogLevel(newLevel).\n"
     ]
    },
    {
     "ename": "AssertionError",
     "evalue": "",
     "output_type": "error",
     "traceback": [
      "\u001b[0;31m---------------------------------------------------------------------------\u001b[0m",
      "\u001b[0;31mAssertionError\u001b[0m                            Traceback (most recent call last)",
      "Cell \u001b[0;32mIn[1], line 5\u001b[0m\n\u001b[1;32m      2\u001b[0m \u001b[39mfrom\u001b[39;00m \u001b[39mpyspark\u001b[39;00m\u001b[39m.\u001b[39;00m\u001b[39mstreaming\u001b[39;00m \u001b[39mimport\u001b[39;00m StreamingContext \n\u001b[1;32m      4\u001b[0m \u001b[39m# Create Streaming Context with batch interval of 3 second. \u001b[39;00m\n\u001b[0;32m----> 5\u001b[0m ssc \u001b[39m=\u001b[39m StreamingContext(sc, \u001b[39m1\u001b[39;49m)\n",
      "File \u001b[0;32m~/.python/current/lib/python3.10/site-packages/pyspark/streaming/context.py:66\u001b[0m, in \u001b[0;36mStreamingContext.__init__\u001b[0;34m(self, sparkContext, batchDuration, jssc)\u001b[0m\n\u001b[1;32m     64\u001b[0m \u001b[39mself\u001b[39m\u001b[39m.\u001b[39m_sc \u001b[39m=\u001b[39m sparkContext\n\u001b[1;32m     65\u001b[0m \u001b[39mself\u001b[39m\u001b[39m.\u001b[39m_jvm \u001b[39m=\u001b[39m \u001b[39mself\u001b[39m\u001b[39m.\u001b[39m_sc\u001b[39m.\u001b[39m_jvm\n\u001b[0;32m---> 66\u001b[0m \u001b[39mself\u001b[39m\u001b[39m.\u001b[39m_jssc \u001b[39m=\u001b[39m jssc \u001b[39mor\u001b[39;00m \u001b[39mself\u001b[39;49m\u001b[39m.\u001b[39;49m_initialize_context(\u001b[39mself\u001b[39;49m\u001b[39m.\u001b[39;49m_sc, batchDuration)\n",
      "File \u001b[0;32m~/.python/current/lib/python3.10/site-packages/pyspark/streaming/context.py:70\u001b[0m, in \u001b[0;36mStreamingContext._initialize_context\u001b[0;34m(self, sc, duration)\u001b[0m\n\u001b[1;32m     68\u001b[0m \u001b[39mdef\u001b[39;00m \u001b[39m_initialize_context\u001b[39m(\u001b[39mself\u001b[39m, sc: SparkContext, duration: Optional[\u001b[39mint\u001b[39m]) \u001b[39m-\u001b[39m\u001b[39m>\u001b[39m JavaObject:\n\u001b[1;32m     69\u001b[0m     \u001b[39mself\u001b[39m\u001b[39m.\u001b[39m_ensure_initialized()\n\u001b[0;32m---> 70\u001b[0m     \u001b[39massert\u001b[39;00m \u001b[39mself\u001b[39m\u001b[39m.\u001b[39m_jvm \u001b[39mis\u001b[39;00m \u001b[39mnot\u001b[39;00m \u001b[39mNone\u001b[39;00m \u001b[39mand\u001b[39;00m duration \u001b[39mis\u001b[39;00m \u001b[39mnot\u001b[39;00m \u001b[39mNone\u001b[39;00m\n\u001b[1;32m     71\u001b[0m     \u001b[39mreturn\u001b[39;00m \u001b[39mself\u001b[39m\u001b[39m.\u001b[39m_jvm\u001b[39m.\u001b[39mJavaStreamingContext(sc\u001b[39m.\u001b[39m_jsc, \u001b[39mself\u001b[39m\u001b[39m.\u001b[39m_jduration(duration))\n",
      "\u001b[0;31mAssertionError\u001b[0m: "
     ]
    }
   ],
   "source": [
    "from pyspark import SparkContext as sc\n",
    "from pyspark.streaming import StreamingContext \n",
    "\n",
    "# Create Streaming Context with batch interval of 3 second. \n",
    "ssc = StreamingContext(sc, 1)"
   ]
  },
  {
   "cell_type": "code",
   "execution_count": null,
   "metadata": {},
   "outputs": [],
   "source": [
    "# Create the queue through which RDDs can be pushed to a QueueInputDStream \n",
    "\n",
    "rdd1 =  sc.parallelize([1, 2, 3])\n",
    "rdd2 =  sc.parallelize([4, 5])\n",
    "rdd3 =  sc.parallelize([6, 7, 8, 9])\n",
    "\n",
    "rddQueue = [rdd1, rdd2, rdd3] \n",
    " \n",
    "# Create the QueueInputDStream and use it do some processing \n",
    "inputStream = ssc.queueStream(rddQueue) \n",
    "\n",
    "# Count the number of identical object in the batch \n",
    "newDstream = inputStream.transform(lambda rdd: rdd.filter(lambda x: x%2 == 0 or x > 7))\n",
    "newDstream.pprint()  \n"
   ]
  },
  {
   "cell_type": "code",
   "execution_count": null,
   "metadata": {},
   "outputs": [],
   "source": [
    "# Start the computation\n",
    "ssc.start() \n",
    "ssc.awaitTermination()"
   ]
  },
  {
   "cell_type": "code",
   "execution_count": null,
   "metadata": {},
   "outputs": [],
   "source": []
  }
 ],
 "metadata": {
  "kernelspec": {
   "display_name": "Python 3",
   "language": "python",
   "name": "python3"
  },
  "language_info": {
   "codemirror_mode": {
    "name": "ipython",
    "version": 3
   },
   "file_extension": ".py",
   "mimetype": "text/x-python",
   "name": "python",
   "nbconvert_exporter": "python",
   "pygments_lexer": "ipython3",
   "version": "3.10.4"
  }
 },
 "nbformat": 4,
 "nbformat_minor": 2
}

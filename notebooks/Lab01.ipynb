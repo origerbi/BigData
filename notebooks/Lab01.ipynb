{
 "cells": [
  {
   "cell_type": "code",
   "execution_count": 1,
   "id": "562c33a6",
   "metadata": {},
   "outputs": [
    {
     "data": {
      "text/html": [
       "\n",
       "        <div>\n",
       "            <p><b>SparkContext</b></p>\n",
       "\n",
       "            <p><a href=\"http://192.168.90.27:4040\">Spark UI</a></p>\n",
       "\n",
       "            <dl>\n",
       "              <dt>Version</dt>\n",
       "                <dd><code>v3.3.0</code></dd>\n",
       "              <dt>Master</dt>\n",
       "                <dd><code>local[*]</code></dd>\n",
       "              <dt>AppName</dt>\n",
       "                <dd><code>PySparkShell</code></dd>\n",
       "            </dl>\n",
       "        </div>\n",
       "        "
      ],
      "text/plain": [
       "<SparkContext master=local[*] appName=PySparkShell>"
      ]
     },
     "execution_count": 1,
     "metadata": {},
     "output_type": "execute_result"
    }
   ],
   "source": [
    "sc"
   ]
  },
  {
   "cell_type": "code",
   "execution_count": 3,
   "id": "2a4e9caf",
   "metadata": {},
   "outputs": [
    {
     "name": "stdout",
     "output_type": "stream",
     "text": [
      "[21, 27, 43, 40, 75]\n",
      "21\n"
     ]
    }
   ],
   "source": [
    "firstRDD = sc.parallelize([21,27,43,40,75,61,70,8,9,100,11])\n",
    "print(firstRDD.take(5))\n",
    "print(firstRDD.first())"
   ]
  },
  {
   "cell_type": "code",
   "execution_count": 5,
   "id": "177d1c25",
   "metadata": {},
   "outputs": [
    {
     "name": "stdout",
     "output_type": "stream",
     "text": [
      "[144, 150, 166, 163, 198]\n"
     ]
    }
   ],
   "source": [
    "secondRDD = firstRDD.map(lambda x: x + 123)\n",
    "print(secondRDD.take(5))"
   ]
  },
  {
   "cell_type": "code",
   "execution_count": 6,
   "id": "c3a8e58f",
   "metadata": {},
   "outputs": [
    {
     "name": "stdout",
     "output_type": "stream",
     "text": [
      "100 131\n"
     ]
    }
   ],
   "source": [
    "print(firstRDD.max(), secondRDD.min())"
   ]
  },
  {
   "cell_type": "code",
   "execution_count": 7,
   "id": "a416daa2",
   "metadata": {},
   "outputs": [
    {
     "name": "stdout",
     "output_type": "stream",
     "text": [
      "[166, 163, 198, 184, 193]\n"
     ]
    }
   ],
   "source": [
    "thirdRDD = secondRDD.filter(lambda num: num > 150)\n",
    "print(thirdRDD.take(5))"
   ]
  },
  {
   "cell_type": "code",
   "execution_count": 15,
   "id": "edae90a7",
   "metadata": {},
   "outputs": [
    {
     "name": "stdout",
     "output_type": "stream",
     "text": [
      "4854\n",
      "28983\n"
     ]
    }
   ],
   "source": [
    "lines = sc.textFile(\"Romeo_Juliet.txt\")\n",
    "print(lines.count())\n",
    "words = lines.flatMap(lambda line:line.split())\n",
    "print(words.count())"
   ]
  },
  {
   "cell_type": "code",
   "execution_count": 39,
   "id": "2468c544",
   "metadata": {},
   "outputs": [
    {
     "name": "stdout",
     "output_type": "stream",
     "text": [
      "[('the', 762), ('I', 549), ('and', 539), ('to', 522), ('of', 485), ('a', 453), ('in', 330), ('is', 322), ('my', 310), ('with', 274)]\n"
     ]
    }
   ],
   "source": [
    "frequencies = words.map(lambda w: (w, 1))\n",
    "frequencies = frequencies.reduceByKey(lambda v1, v2: v1 + v2)\n",
    "print(frequencies.takeOrdered(10, key=lambda x: -x[1]))"
   ]
  },
  {
   "cell_type": "code",
   "execution_count": 40,
   "id": "ca5f1f14",
   "metadata": {},
   "outputs": [
    {
     "name": "stdout",
     "output_type": "stream",
     "text": [
      "[('Jul.', 117), ('Rom.', 163)]\n"
     ]
    }
   ],
   "source": [
    "romjul = words.filter(lambda w: w == \"Rom.\" or w == \"Jul.\")\n",
    "frequencies = romjul.map(lambda w: (w, 1))\n",
    "frequencies = frequencies.reduceByKey(lambda v1, v2: v1 + v2)\n",
    "print(frequencies.take(5))"
   ]
  },
  {
   "cell_type": "code",
   "execution_count": null,
   "id": "4b162426",
   "metadata": {},
   "outputs": [],
   "source": []
  }
 ],
 "metadata": {
  "kernelspec": {
   "display_name": "Python 3 (ipykernel)",
   "language": "python",
   "name": "python3"
  },
  "language_info": {
   "codemirror_mode": {
    "name": "ipython",
    "version": 3
   },
   "file_extension": ".py",
   "mimetype": "text/x-python",
   "name": "python",
   "nbconvert_exporter": "python",
   "pygments_lexer": "ipython3",
   "version": "3.9.12"
  }
 },
 "nbformat": 4,
 "nbformat_minor": 5
}
